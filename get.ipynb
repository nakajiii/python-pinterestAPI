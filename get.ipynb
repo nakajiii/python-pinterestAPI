{
 "cells": [
  {
   "cell_type": "code",
   "execution_count": 11,
   "metadata": {},
   "outputs": [],
   "source": [
    "import json\n",
    "import requests\n",
    "\n",
    "import pandas as pd\n",
    "import numpy as np"
   ]
  },
  {
   "cell_type": "code",
   "execution_count": 12,
   "metadata": {},
   "outputs": [],
   "source": [
    "token = 'AqID5E77gHhK_n5AhoLIZ3O-qoNpFVzVvmGoI_ZFToUf6uBS_gjPADAAAbm2RU6NWvOAW2wAAAAA'"
   ]
  },
  {
   "cell_type": "code",
   "execution_count": 9,
   "metadata": {},
   "outputs": [],
   "source": [
    "api = 'https://api.pinterest.com/v1/boards/{boardsName}/pins/?access_token={access_token}'\n",
    "url = api.format(boardsName = 'bxbmx145/トレンチコート', access_token = token)\n",
    "\n",
    "r = requests.get(url)\n",
    "data = json.loads(r.text)"
   ]
  },
  {
   "cell_type": "code",
   "execution_count": 10,
   "metadata": {},
   "outputs": [
    {
     "data": {
      "text/plain": [
       "{'data': [{'url': 'https://www.pinterest.com/pin/542050505148088065/',\n",
       "   'note': 'コーディネート詳細（黒・白・ベージュ\\u3000\"春\"バージョン）| Kyoko Kikuchi\\'s Closet｜菊池京子のクローゼット',\n",
       "   'link': 'https://www.pinterest.com/r/pin/542050505148088065/4994075408931508990/3df6c5d7cc5b4d1c4828151c2c22aaffbae1f0974a1ef9c1f6cea4ba2f309318',\n",
       "   'id': '542050505148088065'},\n",
       "  {'url': 'https://www.pinterest.com/pin/542050505147876420/',\n",
       "   'note': ' ',\n",
       "   'link': '',\n",
       "   'id': '542050505147876420'},\n",
       "  {'url': 'https://www.pinterest.com/pin/542050505144734777/',\n",
       "   'note': ' ',\n",
       "   'link': '',\n",
       "   'id': '542050505144734777'},\n",
       "  {'url': 'https://www.pinterest.com/pin/542050505144734768/',\n",
       "   'note': ' ',\n",
       "   'link': '',\n",
       "   'id': '542050505144734768'},\n",
       "  {'url': 'https://www.pinterest.com/pin/542050505144734725/',\n",
       "   'note': ' ',\n",
       "   'link': '',\n",
       "   'id': '542050505144734725'},\n",
       "  {'url': 'https://www.pinterest.com/pin/542050505144352524/',\n",
       "   'note': 'chanel and louboutins fashion snap',\n",
       "   'link': 'https://www.pinterest.com/r/pin/542050505144352524/4994075408931508990/5aa5a39ec2ea030aa8d25b5630bb593d4c402a80f090338c7e0743a4a8e7b910',\n",
       "   'id': '542050505144352524'},\n",
       "  {'url': 'https://www.pinterest.com/pin/542050505144182910/',\n",
       "   'note': ' ',\n",
       "   'link': '',\n",
       "   'id': '542050505144182910'},\n",
       "  {'url': 'https://www.pinterest.com/pin/542050505144011030/',\n",
       "   'note': 'CELEBRITY SNAP ♥ 素敵すぎるアマル・クルーニー の画像｜ウェデイング・レポーターのココが好き !',\n",
       "   'link': 'https://www.pinterest.com/r/pin/542050505144011030/4994075408931508990/88b99c5c1b2776bfc027de54afc175dba34fb94810c38a116a1e676989cd41cc',\n",
       "   'id': '542050505144011030'},\n",
       "  {'url': 'https://www.pinterest.com/pin/542050505143135233/',\n",
       "   'note': '@karachristeen',\n",
       "   'link': 'https://www.pinterest.com/r/pin/542050505143135233/4994075408931508990/f24c3a13a6648536087119ac2e0c8199ec6bd710847433b22ca92d22b8d326f2',\n",
       "   'id': '542050505143135233'},\n",
       "  {'url': 'https://www.pinterest.com/pin/542050505142876477/',\n",
       "   'note': 'トレンチでベージュコーデ',\n",
       "   'link': 'https://www.pinterest.com/r/pin/542050505142876477/4994075408931508990/5681c786cefd03b6fc254401faf93e69dcb3b222fa54397fa7686f13e7939eb2',\n",
       "   'id': '542050505142876477'},\n",
       "  {'url': 'https://www.pinterest.com/pin/542050505142876475/',\n",
       "   'note': 'Nude Trench Coat with black jeans, black tee and nude strap heels or nude pumps. Styles for the working Women. Stylish business casual work outfit',\n",
       "   'link': 'https://www.pinterest.com/r/pin/542050505142876475/4994075408931508990/ebf36ff9dfdfb50c062cfc0751d3714748f7bab47cf2ee105f77bee0249f7fd9',\n",
       "   'id': '542050505142876475'},\n",
       "  {'url': 'https://www.pinterest.com/pin/542050505142876468/',\n",
       "   'note': '海外セレブ最新画像・ファッションブログ DailyCelebrityDiary*#02-ミランダ・カー',\n",
       "   'link': 'https://www.pinterest.com/r/pin/542050505142876468/4994075408931508990/e953b1cb9e4830ebdd0833287ade3ef4f8bd36b90a7181f515d5254c710c7154',\n",
       "   'id': '542050505142876468'},\n",
       "  {'url': 'https://www.pinterest.com/pin/542050505142876464/',\n",
       "   'note': 'この秋トレンドの「ワントーンコーデ」。全身を一色にまとめるだけの簡単コーディネートなのにお洒落上級者に見える!そんな「ワントーンコーデ」のポイントをカラー別でご紹介。きっとあなたにぴったりのスタイルが見つかるはず!',\n",
       "   'link': 'https://www.pinterest.com/r/pin/542050505142876464/4994075408931508990/6ec7bab9c7945f6f429a5883e28c3b8fc74428a65d87a030f2d706b7be0ad0f5',\n",
       "   'id': '542050505142876464'},\n",
       "  {'url': 'https://www.pinterest.com/pin/542050505141912939/',\n",
       "   'note': ' ',\n",
       "   'link': '',\n",
       "   'id': '542050505141912939'},\n",
       "  {'url': 'https://www.pinterest.com/pin/542050505140832896/',\n",
       "   'note': '{D595EFA2-07CB-48FF-8D00-50509852AB0C:01}',\n",
       "   'link': 'https://www.pinterest.com/r/pin/542050505140832896/4994075408931508990/bd94b4fd9894ffbbe371b843e6ea2c3fe3658719cb21a80650575ab275933800',\n",
       "   'id': '542050505140832896'},\n",
       "  {'url': 'https://www.pinterest.com/pin/542050505140456359/',\n",
       "   'note': ' ',\n",
       "   'link': '',\n",
       "   'id': '542050505140456359'},\n",
       "  {'url': 'https://www.pinterest.com/pin/542050505140139532/',\n",
       "   'note': '白パンツの着こなし・コーデ一覧【レディース】 | MILANDA',\n",
       "   'link': 'https://www.pinterest.com/r/pin/542050505140139532/4994075408931508990/319c6dd98685631cd68b0353d8c38411213e7eacf6f42e85008470d99117e4a3',\n",
       "   'id': '542050505140139532'},\n",
       "  {'url': 'https://www.pinterest.com/pin/542050505139681505/',\n",
       "   'note': '小物でキュート',\n",
       "   'link': 'https://www.pinterest.com/r/pin/542050505139681505/4994075408931508990/c52d717f04ba05d4dc2eb5e9ed1ae014a3bf09c972700ae05c83d8a3a4706afc',\n",
       "   'id': '542050505139681505'},\n",
       "  {'url': 'https://www.pinterest.com/pin/542050505139427028/',\n",
       "   'note': 'Best 2｜Oggiファッション情報｜小学館 Oggi.TV Oggi（オッジ）オフィシャルサイト',\n",
       "   'link': 'https://www.pinterest.com/r/pin/542050505139427028/4994075408931508990/71db6eec5df5a3cce3d6bea4376df1c79f423955189308aed2adc8e2619339c7',\n",
       "   'id': '542050505139427028'},\n",
       "  {'url': 'https://www.pinterest.com/pin/542050505139422865/',\n",
       "   'note': 'White dress and a trench coat.',\n",
       "   'link': 'https://www.pinterest.com/r/pin/542050505139422865/4994075408931508990/f7d1365944384a7c64c44c1fdced46545df1b2f660645bad5a01cfdf885e38fc',\n",
       "   'id': '542050505139422865'},\n",
       "  {'url': 'https://www.pinterest.com/pin/542050505138448279/',\n",
       "   'note': '2015/04/06：365日コーディネート | Oggi.TV',\n",
       "   'link': 'https://www.pinterest.com/r/pin/542050505138448279/4994075408931508990/399da90323c4f825418c3c9c6bbfb490063723ec607e15f5c3a259e8e925c9d3',\n",
       "   'id': '542050505138448279'},\n",
       "  {'url': 'https://www.pinterest.com/pin/542050505138345380/',\n",
       "   'note': 'Vol.35\\u3000ベーシックなトレンチコート【ON time】',\n",
       "   'link': 'https://www.pinterest.com/r/pin/542050505138345380/4994075408931508990/1bac1a6b831aedaa2acbad82b97f7cf19d4242168bee445a8daff9c839dc6ca2',\n",
       "   'id': '542050505138345380'},\n",
       "  {'url': 'https://www.pinterest.com/pin/542050505138345203/',\n",
       "   'note': \"コーディネート詳細（トレンチにクリアな白を効かせるのがこの春、気分。）| Kyoko Kikuchi's Closet｜菊池京子のクローゼット\",\n",
       "   'link': 'https://www.pinterest.com/r/pin/542050505138345203/4994075408931508990/82d70f538926a1119e157fc096c2375922c4ad21293623b4ead9cbc004e143a5',\n",
       "   'id': '542050505138345203'},\n",
       "  {'url': 'https://www.pinterest.com/pin/542050505138344715/',\n",
       "   'note': \"Kyoko Kikuchi's Closet | トレンチ×ボーダー。今の気分はこんな感じ。\",\n",
       "   'link': 'https://www.pinterest.com/r/pin/542050505138344715/4994075408931508990/38ae8f8a1ea211ed8a9832827fbce0baf78566dd1635f8b04b323db6f47f8606',\n",
       "   'id': '542050505138344715'},\n",
       "  {'url': 'https://www.pinterest.com/pin/542050505138204594/',\n",
       "   'note': 'フォロワー101.7千人、フォロー中124人、投稿642件 ― @akko3839のInstagramの写真と動画をチェックしよう',\n",
       "   'link': 'https://www.pinterest.com/r/pin/542050505138204594/4994075408931508990/5a8d8c1f6e942c826273235e56958e59d590ae022eff0a80351a74f5f442a102',\n",
       "   'id': '542050505138204594'}],\n",
       " 'page': {'cursor': 'LT41NDIwNTA1MDUxMzgyMDQ1OTQ6MjV8ZTRkZDJiMjk5MDg0ZjcwZjdlNDkzYzAzM2U4NGFkMWE4NjJhNmQ3ODI4MWFiNzQ3Njc5YjQyY2ZkN2IwYmRiYg==',\n",
       "  'next': 'https://api.pinterest.com/v1/boards/bxbmx145/トレンチコート/pins/?access_token=AqID5E77gHhK_n5AhoLIZ3O-qoNpFVzVvmGoI_ZFToUf6uBS_gjPADAAAbm2RU6NWvOAW2wAAAAA&cursor=LT41NDIwNTA1MDUxMzgyMDQ1OTQ6MjV8ZTRkZDJiMjk5MDg0ZjcwZjdlNDkzYzAzM2U4NGFkMWE4NjJhNmQ3ODI4MWFiNzQ3Njc5YjQyY2ZkN2IwYmRiYg%3D%3D'}}"
      ]
     },
     "execution_count": 10,
     "metadata": {},
     "output_type": "execute_result"
    }
   ],
   "source": [
    "data"
   ]
  },
  {
   "cell_type": "code",
   "execution_count": null,
   "metadata": {},
   "outputs": [],
   "source": []
  }
 ],
 "metadata": {
  "kernelspec": {
   "display_name": "Python 3",
   "language": "python",
   "name": "python3"
  },
  "language_info": {
   "codemirror_mode": {
    "name": "ipython",
    "version": 3
   },
   "file_extension": ".py",
   "mimetype": "text/x-python",
   "name": "python",
   "nbconvert_exporter": "python",
   "pygments_lexer": "ipython3",
   "version": "3.7.0"
  }
 },
 "nbformat": 4,
 "nbformat_minor": 2
}

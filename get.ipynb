{
 "cells": [
  {
   "cell_type": "code",
   "execution_count": 45,
   "metadata": {},
   "outputs": [],
   "source": [
    "import json\n",
    "import requests\n",
    "\n",
    "import pandas as pd\n",
    "import numpy as np"
   ]
  },
  {
   "cell_type": "code",
   "execution_count": 66,
   "metadata": {},
   "outputs": [],
   "source": [
    "token = 'AqID5E77gHhK_n5AhoLIZ3O-qoNpFVzVvmGoI_ZFToUf6uBS_gjPADAAAbm2RU6NWvOAW2wAAAAA'"
   ]
  },
  {
   "cell_type": "code",
   "execution_count": 56,
   "metadata": {},
   "outputs": [],
   "source": [
    "def getBoardName():\n",
    "    '''\n",
    "    ボードの名前を指定してボード内のすべてのPIN情報を返す\n",
    "    '''\n",
    "    boardName = 'hisjapan/his_blue'\n",
    "\n",
    "    api = 'https://api.pinterest.com/v1/boards/{boardsName}/pins/?access_token={access_token}&fields=id%2Clink%2Cnote%2Curl%2Cattribution%2Cmetadata%2Cboard%2Ccolor%2Ccounts%2Ccreated_at%2Ccreator%2Cimage%2Cmedia%2Coriginal_link'\n",
    "    url = api.format(boardsName = boardName, access_token = token)\n",
    "    \n",
    "    r = requests.get(url)\n",
    "    data = json.loads(r.text)\n",
    "    return data"
   ]
  },
  {
   "cell_type": "code",
   "execution_count": 32,
   "metadata": {},
   "outputs": [],
   "source": [
    "def getPinData():\n",
    "    '''\n",
    "    PinのIDを指定して、そのPinの情報を返す\n",
    "    '''\n",
    "    pin = '129267451783289763'\n",
    "    \n",
    "    api = 'https://api.pinterest.com/v1/pins/{pin}/?access_token={access_token}'\n",
    "    url = api.format(pin = pin, access_token = token)\n",
    "    \n",
    "    r = requests.get(url)\n",
    "    data = json.loads(r.text)\n",
    "    return data"
   ]
  },
  {
   "cell_type": "code",
   "execution_count": 34,
   "metadata": {},
   "outputs": [],
   "source": [
    "def getUserData():\n",
    "    '''\n",
    "    ユーザーネームを指定して、そのユーザーの情報を返す\n",
    "    '''\n",
    "    \n",
    "    username = 'hisjapan'\n",
    "    \n",
    "    api = 'https://api.pinterest.com/v1/users/{username}/?access_token={access_token}'\n",
    "    url = api.format(username = username, access_token = token)\n",
    "    \n",
    "    r = requests.get(url)\n",
    "    data = json.loads(r.text)\n",
    "    return data"
   ]
  },
  {
   "cell_type": "code",
   "execution_count": 47,
   "metadata": {},
   "outputs": [],
   "source": [
    "def getSection():\n",
    "    '''\n",
    "    使い方が良くわかっていない。\n",
    "    '''\n",
    "    boardName = 'his_blue'\n",
    "    \n",
    "    api = 'https://api.pinterest.com/v1/boards/{boardsName}/sections/?access_token={access_token}'\n",
    "    url = api.format(boardsName = boardName, access_token = token)\n",
    "    \n",
    "    r = requests.get(url)\n",
    "    data = json.loads(r.text)\n",
    "    return data"
   ]
  },
  {
   "cell_type": "code",
   "execution_count": 54,
   "metadata": {},
   "outputs": [],
   "source": [
    "def getBoardInfo():\n",
    "    '''\n",
    "    ボードの情報を返す\n",
    "    '''\n",
    "    boardName = 'hisjapan/his_blue'\n",
    "\n",
    "    api = 'https://api.pinterest.com/v1/boards/{boardsName}/?access_token={access_token}&fields=id%2Cname%2Curl%2Ccounts%2Ccreated_at%2Ccreator%2Cdescription%2Cimage%2Cprivacy%2Creason'\n",
    "    url = api.format(boardsName = boardName, access_token = token)\n",
    "    \n",
    "    r = requests.get(url)\n",
    "    data = json.loads(r.text)\n",
    "    return data"
   ]
  },
  {
   "cell_type": "code",
   "execution_count": 59,
   "metadata": {},
   "outputs": [],
   "source": [
    "def getSuggest():\n",
    "    '''\n",
    "    ちょっとまだよくわかっていない\n",
    "    '''\n",
    "    api = 'https://api.pinterest.com/v1/me/boards/suggested/?access_token={access_token}&fields=id%2Cname%2Curl%2Ccounts%2Ccreated_at%2Ccreator%2Cdescription%2Cimage%2Cprivacy%2Creason'\n",
    "    url = api.format(access_token = token)\n",
    "    \n",
    "    r = requests.get(url)\n",
    "    data = json.loads(r.text)\n",
    "    return data"
   ]
  },
  {
   "cell_type": "code",
   "execution_count": 61,
   "metadata": {},
   "outputs": [],
   "source": [
    "def me():\n",
    "    '''\n",
    "    自分自身について情報を返す\n",
    "    '''\n",
    "    api = 'https://api.pinterest.com/v1/me/?access_token={access_token}&fields=first_name%2Cid%2Clast_name%2Curl'\n",
    "    url = api.format(access_token = token)\n",
    "    \n",
    "    r = requests.get(url)\n",
    "    data = json.loads(r.text)\n",
    "    return data"
   ]
  },
  {
   "cell_type": "code",
   "execution_count": null,
   "metadata": {},
   "outputs": [],
   "source": []
  }
 ],
 "metadata": {
  "kernelspec": {
   "display_name": "Python 3",
   "language": "python",
   "name": "python3"
  },
  "language_info": {
   "codemirror_mode": {
    "name": "ipython",
    "version": 3
   },
   "file_extension": ".py",
   "mimetype": "text/x-python",
   "name": "python",
   "nbconvert_exporter": "python",
   "pygments_lexer": "ipython3",
   "version": "3.7.0"
  }
 },
 "nbformat": 4,
 "nbformat_minor": 2
}
